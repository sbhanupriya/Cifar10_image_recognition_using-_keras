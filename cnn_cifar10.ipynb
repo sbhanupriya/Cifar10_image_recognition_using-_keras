{
  "nbformat": 4,
  "nbformat_minor": 0,
  "metadata": {
    "colab": {
      "name": "cnn_cifar10.ipynb",
      "provenance": [],
      "authorship_tag": "ABX9TyP06c87hCa6m4xnE6uaujNH"
    },
    "kernelspec": {
      "name": "python3",
      "display_name": "Python 3"
    }
  },
  "cells": [
    {
      "cell_type": "code",
      "metadata": {
        "id": "oHN0CMNoJqoE",
        "colab_type": "code",
        "colab": {}
      },
      "source": [
        "import numpy as np\n",
        "import keras\n",
        "from keras.datasets import cifar10 \n",
        "from keras.utils import np_utils \n",
        "from tensorflow.python.keras.models import Sequential \n",
        "from tensorflow.python.keras.layers.core import Dense, Dropout, Activation, Flatten \n",
        "from tensorflow.python.keras.layers.convolutional import Conv2D, MaxPooling2D \n",
        "from tensorflow.keras.optimizers import SGD, Adam, RMSprop \n",
        "import matplotlib.pyplot as plt "
      ],
      "execution_count": 0,
      "outputs": []
    },
    {
      "cell_type": "code",
      "metadata": {
        "id": "w7McLtoDJ8lA",
        "colab_type": "code",
        "colab": {}
      },
      "source": [
        "IMG_CHANNELS = 3 \n",
        "IMG_ROWS = 32 \n",
        "IMG_COLS = 32 #constant \n",
        "BATCH_SIZE = 128\n",
        "NB_EPOCH = 20 \n",
        "NB_CLASSES = 10 \n",
        "VERBOSE = 1 \n",
        "VALIDATION_SPLIT = 0.2 \n",
        "OPTIM = SGD() "
      ],
      "execution_count": 0,
      "outputs": []
    },
    {
      "cell_type": "code",
      "metadata": {
        "id": "DtPhUND4KTD2",
        "colab_type": "code",
        "colab": {
          "base_uri": "https://localhost:8080/",
          "height": 70
        },
        "outputId": "2fa50226-c4c7-4fcf-ceda-333144b0e4ad"
      },
      "source": [
        "(X_train, y_train), (X_test, y_test) = cifar10.load_data() \n",
        "print('X_train shape:', X_train.shape) \n",
        "print(X_train.shape[0], 'train samples') \n",
        "print(X_test.shape[0], 'test samples')\n"
      ],
      "execution_count": 13,
      "outputs": [
        {
          "output_type": "stream",
          "text": [
            "X_train shape: (50000, 32, 32, 3)\n",
            "50000 train samples\n",
            "10000 test samples\n"
          ],
          "name": "stdout"
        }
      ]
    },
    {
      "cell_type": "code",
      "metadata": {
        "id": "hMbb9bkhKeBp",
        "colab_type": "code",
        "colab": {}
      },
      "source": [
        "Y_train = np_utils.to_categorical(y_train, NB_CLASSES) \n",
        "Y_test = np_utils.to_categorical(y_test, NB_CLASSES) # float and normalization \n",
        "X_train = X_train.astype('float32') \n",
        "X_test = X_test.astype('float32') \n",
        "X_train /= 255 \n",
        "X_test /= 255 "
      ],
      "execution_count": 0,
      "outputs": []
    },
    {
      "cell_type": "code",
      "metadata": {
        "id": "3x9EK3haKoXT",
        "colab_type": "code",
        "colab": {
          "base_uri": "https://localhost:8080/",
          "height": 510
        },
        "outputId": "e23329d9-de3a-439d-8189-0115668a8449"
      },
      "source": [
        "model = Sequential() \n",
        "model.add(Conv2D(32, (3, 3), padding='same', input_shape=(IMG_ROWS, IMG_COLS, IMG_CHANNELS))) \n",
        "model.add(Activation('relu')) \n",
        "model.add(MaxPooling2D(pool_size=(2, 2))) \n",
        "model.add(Dropout(0.25)) \n",
        "model.add(Flatten()) \n",
        "model.add(Dense(512)) \n",
        "model.add(Activation('relu')) \n",
        "model.add(Dropout(0.5)) \n",
        "model.add(Dense(NB_CLASSES)) \n",
        "model.add(Activation('softmax')) \n",
        "model.summary() "
      ],
      "execution_count": 16,
      "outputs": [
        {
          "output_type": "stream",
          "text": [
            "Model: \"sequential_2\"\n",
            "_________________________________________________________________\n",
            "Layer (type)                 Output Shape              Param #   \n",
            "=================================================================\n",
            "conv2d_2 (Conv2D)            (None, 32, 32, 32)        896       \n",
            "_________________________________________________________________\n",
            "activation_6 (Activation)    (None, 32, 32, 32)        0         \n",
            "_________________________________________________________________\n",
            "max_pooling2d_2 (MaxPooling2 (None, 16, 16, 32)        0         \n",
            "_________________________________________________________________\n",
            "dropout_4 (Dropout)          (None, 16, 16, 32)        0         \n",
            "_________________________________________________________________\n",
            "flatten_2 (Flatten)          (None, 8192)              0         \n",
            "_________________________________________________________________\n",
            "dense_4 (Dense)              (None, 512)               4194816   \n",
            "_________________________________________________________________\n",
            "activation_7 (Activation)    (None, 512)               0         \n",
            "_________________________________________________________________\n",
            "dropout_5 (Dropout)          (None, 512)               0         \n",
            "_________________________________________________________________\n",
            "dense_5 (Dense)              (None, 10)                5130      \n",
            "_________________________________________________________________\n",
            "activation_8 (Activation)    (None, 10)                0         \n",
            "=================================================================\n",
            "Total params: 4,200,842\n",
            "Trainable params: 4,200,842\n",
            "Non-trainable params: 0\n",
            "_________________________________________________________________\n"
          ],
          "name": "stdout"
        }
      ]
    },
    {
      "cell_type": "code",
      "metadata": {
        "id": "tKjA6uEkK75d",
        "colab_type": "code",
        "colab": {
          "base_uri": "https://localhost:8080/",
          "height": 794
        },
        "outputId": "549ee0f4-e4e6-4c30-aac0-e677a3b5e8ee"
      },
      "source": [
        "model.compile(loss='categorical_crossentropy', optimizer=OPTIM, metrics=['accuracy']) \n",
        "model.fit(X_train, Y_train, batch_size=BATCH_SIZE, epochs=NB_EPOCH, validation_split=VALIDATION_SPLIT, verbose=VERBOSE) \n",
        "score = model.evaluate(X_test, Y_test, batch_size=BATCH_SIZE, verbose=VERBOSE)\n",
        "print(\"Test score:\", score[0])\n",
        "print('Test accuracy:', score[1]) "
      ],
      "execution_count": 17,
      "outputs": [
        {
          "output_type": "stream",
          "text": [
            "Epoch 1/20\n",
            "313/313 [==============================] - 59s 189ms/step - loss: 2.1711 - accuracy: 0.1996 - val_loss: 1.9956 - val_accuracy: 0.3023\n",
            "Epoch 2/20\n",
            "313/313 [==============================] - 60s 191ms/step - loss: 1.9779 - accuracy: 0.2896 - val_loss: 1.8866 - val_accuracy: 0.3406\n",
            "Epoch 3/20\n",
            "313/313 [==============================] - 63s 200ms/step - loss: 1.8872 - accuracy: 0.3313 - val_loss: 1.8198 - val_accuracy: 0.3692\n",
            "Epoch 4/20\n",
            "313/313 [==============================] - 60s 192ms/step - loss: 1.8171 - accuracy: 0.3568 - val_loss: 1.7458 - val_accuracy: 0.3912\n",
            "Epoch 5/20\n",
            "313/313 [==============================] - 60s 192ms/step - loss: 1.7579 - accuracy: 0.3776 - val_loss: 1.7031 - val_accuracy: 0.4108\n",
            "Epoch 6/20\n",
            "313/313 [==============================] - 60s 191ms/step - loss: 1.7073 - accuracy: 0.3952 - val_loss: 1.6666 - val_accuracy: 0.4096\n",
            "Epoch 7/20\n",
            "313/313 [==============================] - 60s 192ms/step - loss: 1.6593 - accuracy: 0.4121 - val_loss: 1.5949 - val_accuracy: 0.4470\n",
            "Epoch 8/20\n",
            "313/313 [==============================] - 60s 192ms/step - loss: 1.6135 - accuracy: 0.4290 - val_loss: 1.5412 - val_accuracy: 0.4644\n",
            "Epoch 9/20\n",
            "313/313 [==============================] - 60s 191ms/step - loss: 1.5726 - accuracy: 0.4418 - val_loss: 1.5198 - val_accuracy: 0.4755\n",
            "Epoch 10/20\n",
            "313/313 [==============================] - 60s 191ms/step - loss: 1.5366 - accuracy: 0.4515 - val_loss: 1.4830 - val_accuracy: 0.4830\n",
            "Epoch 11/20\n",
            "313/313 [==============================] - 59s 190ms/step - loss: 1.4982 - accuracy: 0.4662 - val_loss: 1.4350 - val_accuracy: 0.5020\n",
            "Epoch 12/20\n",
            "313/313 [==============================] - 59s 189ms/step - loss: 1.4662 - accuracy: 0.4764 - val_loss: 1.4038 - val_accuracy: 0.5170\n",
            "Epoch 13/20\n",
            "313/313 [==============================] - 62s 198ms/step - loss: 1.4372 - accuracy: 0.4875 - val_loss: 1.3863 - val_accuracy: 0.5190\n",
            "Epoch 14/20\n",
            "313/313 [==============================] - 59s 188ms/step - loss: 1.4169 - accuracy: 0.4933 - val_loss: 1.3628 - val_accuracy: 0.5222\n",
            "Epoch 15/20\n",
            "313/313 [==============================] - 60s 190ms/step - loss: 1.3909 - accuracy: 0.5004 - val_loss: 1.3405 - val_accuracy: 0.5331\n",
            "Epoch 16/20\n",
            "313/313 [==============================] - 59s 190ms/step - loss: 1.3767 - accuracy: 0.5076 - val_loss: 1.3223 - val_accuracy: 0.5369\n",
            "Epoch 17/20\n",
            "313/313 [==============================] - 59s 189ms/step - loss: 1.3554 - accuracy: 0.5138 - val_loss: 1.3113 - val_accuracy: 0.5435\n",
            "Epoch 18/20\n",
            "313/313 [==============================] - 59s 189ms/step - loss: 1.3430 - accuracy: 0.5211 - val_loss: 1.2944 - val_accuracy: 0.5519\n",
            "Epoch 19/20\n",
            "313/313 [==============================] - 59s 188ms/step - loss: 1.3275 - accuracy: 0.5275 - val_loss: 1.2994 - val_accuracy: 0.5447\n",
            "Epoch 20/20\n",
            "313/313 [==============================] - 59s 189ms/step - loss: 1.3113 - accuracy: 0.5342 - val_loss: 1.2706 - val_accuracy: 0.5596\n",
            "79/79 [==============================] - 4s 46ms/step - loss: 1.2459 - accuracy: 0.5613\n",
            "Test score: 1.2458571195602417\n",
            "Test accuracy: 0.5612999796867371\n"
          ],
          "name": "stdout"
        }
      ]
    }
  ]
}